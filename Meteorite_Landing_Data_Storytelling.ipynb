{
 "cells": [
  {
   "cell_type": "markdown",
   "id": "8dc6d5c5",
   "metadata": {},
   "source": [
    "### Introduction\n",
    "This notebook aims to identify what, if any, correlations exists between the number of meteorite landings and the size and location of the landing. "
   ]
  },
  {
   "cell_type": "code",
   "execution_count": 1,
   "id": "b08f4ecc",
   "metadata": {},
   "outputs": [],
   "source": [
    "import pandas as pd\n",
    "import numpy as np\n",
    "import geopandas as gpd\n",
    "from shapely.geometry import Point\n",
    "import folium\n",
    "import plotly.express as px\n",
    "import plotly.graph_objects as go\n",
    "\n",
    "# Load the dataset\n",
    "df = pd.read_csv('/Users/heatheradler/Documents/GitHub/Springboard/Springboard_Projects/Data Storytelling/Meteorite_Landings.csv')"
   ]
  },
  {
   "cell_type": "markdown",
   "id": "634c819b",
   "metadata": {},
   "source": [
    "### Data Exploration\n",
    "We start by exploring the dataset to understand its structure and clean it if necessary. "
   ]
  },
  {
   "cell_type": "code",
   "execution_count": 2,
   "id": "b4021589",
   "metadata": {},
   "outputs": [],
   "source": [
    "df.rename({\"mass (g)\": \"mass_in_grams\", \"reclat\": \"latitude\", \"reclong\": \"longitude\"}, axis=1, inplace=True)"
   ]
  },
  {
   "cell_type": "markdown",
   "id": "a5d9784b",
   "metadata": {},
   "source": [
    "### Data Cleaning\n",
    "Next, we convert remove missing values in column 'mass (g)' and repalce remaining null values so that there are no longer any missing vlaues."
   ]
  },
  {
   "cell_type": "code",
   "execution_count": 3,
   "id": "7fd41134",
   "metadata": {},
   "outputs": [
    {
     "name": "stderr",
     "output_type": "stream",
     "text": [
      "/var/folders/9q/j_dp7nx93lbc_t5zbbshxpch0000gn/T/ipykernel_84678/497208440.py:3: SettingWithCopyWarning: \n",
      "A value is trying to be set on a copy of a slice from a DataFrame\n",
      "\n",
      "See the caveats in the documentation: https://pandas.pydata.org/pandas-docs/stable/user_guide/indexing.html#returning-a-view-versus-a-copy\n",
      "  df_1.fillna(0, inplace=True)\n"
     ]
    }
   ],
   "source": [
    "df_1 = df.dropna(subset=['mass_in_grams','latitude', 'longitude'])\n",
    "\n",
    "df_1.fillna(0, inplace=True)"
   ]
  },
  {
   "cell_type": "code",
   "execution_count": 4,
   "id": "29975e91",
   "metadata": {},
   "outputs": [],
   "source": [
    "#Create Point geometries\n",
    "geometry = [Point(lon, lat) for lon, lat in zip(df_1['longitude'], df_1['latitude'])]\n",
    "gdf_points = gpd.GeoDataFrame(df_1, geometry=geometry, crs='EPSG:4326')"
   ]
  },
  {
   "cell_type": "markdown",
   "id": "f16860d1",
   "metadata": {},
   "source": [
    "### Data Analysis\n",
    "We'll perform various analyses to explore the dataset more deeply."
   ]
  },
  {
   "cell_type": "code",
   "execution_count": 5,
   "id": "403e1a43",
   "metadata": {},
   "outputs": [
    {
     "name": "stderr",
     "output_type": "stream",
     "text": [
      "/var/folders/9q/j_dp7nx93lbc_t5zbbshxpch0000gn/T/ipykernel_84678/294049908.py:6: FutureWarning: The geopandas.dataset module is deprecated and will be removed in GeoPandas 1.0. You can get the original 'naturalearth_lowres' data from https://www.naturalearthdata.com/downloads/110m-cultural-vectors/.\n",
      "  world = gpd.read_file(gpd.datasets.get_path('naturalearth_lowres'))\n",
      "/Users/heatheradler/anaconda3/lib/python3.11/site-packages/IPython/core/interactiveshell.py:3466: FutureWarning: The `op` parameter is deprecated and will be removed in a future release. Please use the `predicate` parameter instead.\n",
      "  if await self.run_code(code, result, async_=asy):\n",
      "/var/folders/9q/j_dp7nx93lbc_t5zbbshxpch0000gn/T/ipykernel_84678/294049908.py:12: SettingWithCopyWarning: \n",
      "A value is trying to be set on a copy of a slice from a DataFrame.\n",
      "Try using .loc[row_indexer,col_indexer] = value instead\n",
      "\n",
      "See the caveats in the documentation: https://pandas.pydata.org/pandas-docs/stable/user_guide/indexing.html#returning-a-view-versus-a-copy\n",
      "  df_1['country'] = country_names\n"
     ]
    }
   ],
   "source": [
    "# Create Point geometries\n",
    "geometry = [Point(lon, lat) for lon, lat in zip(df_1['longitude'], df_1['latitude'])]\n",
    "gdf_points = gpd.GeoDataFrame(df_1, geometry=geometry, crs='EPSG:4326')\n",
    "\n",
    "# Load world countries shapefile\n",
    "world = gpd.read_file(gpd.datasets.get_path('naturalearth_lowres'))\n",
    "\n",
    "# Perform spatial join\n",
    "joined = gpd.sjoin(gdf_points, world[['geometry', 'iso_a3']], op='within')\n",
    "country_names = joined['iso_a3']\n",
    "\n",
    "df_1['country'] = country_names\n",
    "\n",
    "merged_df = df_1.merge(world[['iso_a3', 'name']], how='left', left_on='country', right_on='iso_a3')\n",
    "merged_df = merged_df.drop(columns=['iso_a3']).rename(columns={'name_y': 'country_name'})"
   ]
  },
  {
   "cell_type": "code",
   "execution_count": 6,
   "id": "41680b9c",
   "metadata": {},
   "outputs": [],
   "source": [
    "# Create folium map\n",
    "df1_filtered = merged_df[['country_name', 'latitude', 'longitude', 'mass_in_grams']].dropna(subset=['country_name', 'latitude', 'longitude', 'mass_in_grams']).copy()\n",
    "f = folium.Figure(width=1000, height=500)\n",
    "m = folium.Map(location=df1_filtered[['latitude', 'longitude']].mean().values.tolist()).add_to(f)\n",
    "\n",
    "for index, row in df1_filtered.iterrows():\n",
    "    folium.CircleMarker(\n",
    "        location=[row['latitude'], row['longitude']],\n",
    "        radius=1,\n",
    "        color='blue',\n",
    "        fill=True,\n",
    "        fill_color='blue',\n",
    "        fill_opacity=0.6,\n",
    "        popup=f'Name: {row[\"country_name\"]}\\nMass: {row[\"mass_in_grams\"]}g'\n",
    "    ).add_to(m)\n",
    "\n",
    "m.fit_bounds([df1_filtered[['latitude', 'longitude']].min().values.tolist(), df1_filtered[['latitude', 'longitude']].max().values.tolist()])"
   ]
  },
  {
   "cell_type": "markdown",
   "id": "2bb6142c",
   "metadata": {},
   "source": [
    "# Questions to Answer with Analytics:"
   ]
  },
  {
   "cell_type": "markdown",
   "id": "6e3acd6a",
   "metadata": {},
   "source": [
    "### 1) What are the top 10 countries with the highest number of recorded meteorite landings?"
   ]
  },
  {
   "cell_type": "code",
   "execution_count": 7,
   "id": "ec7f3477",
   "metadata": {},
   "outputs": [
    {
     "data": {
      "text/html": [
       "<div>\n",
       "<style scoped>\n",
       "    .dataframe tbody tr th:only-of-type {\n",
       "        vertical-align: middle;\n",
       "    }\n",
       "\n",
       "    .dataframe tbody tr th {\n",
       "        vertical-align: top;\n",
       "    }\n",
       "\n",
       "    .dataframe thead th {\n",
       "        text-align: right;\n",
       "    }\n",
       "</style>\n",
       "<table border=\"1\" class=\"dataframe\">\n",
       "  <thead>\n",
       "    <tr style=\"text-align: right;\">\n",
       "      <th></th>\n",
       "      <th>country_name</th>\n",
       "      <th>meteorite_landings</th>\n",
       "    </tr>\n",
       "  </thead>\n",
       "  <tbody>\n",
       "    <tr>\n",
       "      <th>0</th>\n",
       "      <td>Antarctica</td>\n",
       "      <td>22097</td>\n",
       "    </tr>\n",
       "    <tr>\n",
       "      <th>1</th>\n",
       "      <td>Oman</td>\n",
       "      <td>3093</td>\n",
       "    </tr>\n",
       "    <tr>\n",
       "      <th>2</th>\n",
       "      <td>United States of America</td>\n",
       "      <td>1652</td>\n",
       "    </tr>\n",
       "    <tr>\n",
       "      <th>3</th>\n",
       "      <td>Libya</td>\n",
       "      <td>1474</td>\n",
       "    </tr>\n",
       "    <tr>\n",
       "      <th>4</th>\n",
       "      <td>Australia</td>\n",
       "      <td>632</td>\n",
       "    </tr>\n",
       "    <tr>\n",
       "      <th>5</th>\n",
       "      <td>Algeria</td>\n",
       "      <td>624</td>\n",
       "    </tr>\n",
       "    <tr>\n",
       "      <th>6</th>\n",
       "      <td>Chile</td>\n",
       "      <td>359</td>\n",
       "    </tr>\n",
       "    <tr>\n",
       "      <th>7</th>\n",
       "      <td>Kenya</td>\n",
       "      <td>227</td>\n",
       "    </tr>\n",
       "    <tr>\n",
       "      <th>8</th>\n",
       "      <td>Morocco</td>\n",
       "      <td>218</td>\n",
       "    </tr>\n",
       "    <tr>\n",
       "      <th>9</th>\n",
       "      <td>India</td>\n",
       "      <td>131</td>\n",
       "    </tr>\n",
       "  </tbody>\n",
       "</table>\n",
       "</div>"
      ],
      "text/plain": [
       "               country_name  meteorite_landings\n",
       "0                Antarctica               22097\n",
       "1                      Oman                3093\n",
       "2  United States of America                1652\n",
       "3                     Libya                1474\n",
       "4                 Australia                 632\n",
       "5                   Algeria                 624\n",
       "6                     Chile                 359\n",
       "7                     Kenya                 227\n",
       "8                   Morocco                 218\n",
       "9                     India                 131"
      ]
     },
     "execution_count": 7,
     "metadata": {},
     "output_type": "execute_result"
    }
   ],
   "source": [
    "df1_country_count = merged_df.groupby(['country_name'])[['country']].count().rename(columns={\n",
    "    \"country\": \"meteorite_landings\"\n",
    "    }).sort_values(by=['meteorite_landings'], ascending=False).reset_index()\n",
    "df1_country_count.head(10)"
   ]
  },
  {
   "cell_type": "code",
   "execution_count": null,
   "id": "496082dc",
   "metadata": {},
   "outputs": [],
   "source": [
    "fig = px.bar(\n",
    "    df1_country_count.head(10).sort_values(by=['meteorite_landings'], ascending=True),\n",
    "    x='meteorite_landings',\n",
    "    y='country_name',\n",
    "    orientation='h',  # horizontal bar chart\n",
    "    title=\"Meteorite Landings by Country\",\n",
    "    labels={'meteorite_landings': 'Meteorite Landings Count', 'country_name': 'Country'}\n",
    ")\n",
    "\n",
    "fig.show()"
   ]
  },
  {
   "cell_type": "markdown",
   "id": "003f7ad9",
   "metadata": {},
   "source": [
    "### 2) What are the top 10 meteorite landings worldwide based on their mass?"
   ]
  },
  {
   "cell_type": "code",
   "execution_count": null,
   "id": "f438374c",
   "metadata": {},
   "outputs": [],
   "source": [
    "df1_by_mass = merged_df.sort_values(by=['mass_in_grams'], ascending=False).head(10).copy()\n",
    "df1_by_mass['mass_in_grams'] = df1_by_mass['mass_in_grams'].astype(int)\n",
    "\n",
    "fig = px.scatter(df1_by_mass, y=\"country_name\", x=\"year\", color=\"country\", size='mass_in_grams', width=1000, height=400)\n",
    "fig.update_layout(\n",
    "    title=\"<b>Scatter Plot of Top 10 Heaviest Meteorite Landings</b>\",\n",
    "    xaxis_title=\"<b>Year of Meteorite Landings</b>\",\n",
    "    yaxis_title=\"<b>Country</b>\",\n",
    "    legend_title=\"Country\"\n",
    ")\n",
    "fig.show()"
   ]
  },
  {
   "cell_type": "markdown",
   "id": "33f0ea24",
   "metadata": {},
   "source": [
    "#### Observations:\n",
    "(1) The heaviest meteor landing was found in Nambia (1920).             \n",
    "(2) Out of the top 10 heaviest meteorite landings, Namibia and Mexico recorded 2 each.    \n",
    "(3) Out of the top 10 heaviest meteorite landings the oldest recorded was in Argentina (1575)."
   ]
  },
  {
   "cell_type": "markdown",
   "id": "769c7682",
   "metadata": {},
   "source": [
    "### 3) What is the cumulative count of meteorite landings per year over time"
   ]
  },
  {
   "cell_type": "code",
   "execution_count": null,
   "id": "b1a0c8e9",
   "metadata": {
    "scrolled": true
   },
   "outputs": [],
   "source": [
    "fig = px.bar(merged_df['year'].value_counts().sort_index().reset_index(), x='year', y='count', width=1000, height=400)\n",
    "fig.update_layout(\n",
    "    title=\"<b>Bar Plot of Yearly Meteorite Landings</b>\",\n",
    "    xaxis_range=[ 1950, 2023 ],\n",
    "    xaxis_title=\"<b>Year of Meteorite Landings</b>\",\n",
    "    yaxis_title=\"<b>Total Meteorite Landings</b>\"\n",
    "    )\n",
    "fig.update_traces(marker_color='green')\n",
    "fig.show()"
   ]
  },
  {
   "cell_type": "markdown",
   "id": "7fa66e40",
   "metadata": {},
   "source": [
    "### Observations: \n",
    "The count of meteorite landings reached its peak in 1979. Since then, the meteorite landing count has fluctuated with highs in 1988 and 1998. "
   ]
  },
  {
   "cell_type": "markdown",
   "id": "9c7b8133",
   "metadata": {},
   "source": [
    "### 4) What is the distribution of meteorite landings based on their class type?"
   ]
  },
  {
   "cell_type": "code",
   "execution_count": null,
   "id": "fe94a230",
   "metadata": {},
   "outputs": [],
   "source": [
    "df1_class = merged_df['recclass'].value_counts().reset_index()\n",
    "\n",
    "total_count = df1_class['count'].sum()\n",
    "df1_class['percentage'] = round((df1_class['count'] / total_count) * 100, 0)\n",
    "\n",
    "threshold_percentage = 5\n",
    "\n",
    "filtered_df = df1_class[df1_class['percentage'] >= threshold_percentage]\n",
    "\n",
    "fig = px.pie(filtered_df, values='percentage', names='recclass', width=600, height=600)\n",
    "fig.update_layout(title=\"<b>Meteorite Landings By Class Type</b>\", )\n",
    "fig.update_traces(textposition='inside', texttemplate='%{label}<br>%{value}%')    \n",
    "fig.show()"
   ]
  },
  {
   "cell_type": "markdown",
   "id": "8c925224",
   "metadata": {},
   "source": [
    "### 5) What are the top 10 meteorite classes based on their average mass within the class and their class count?"
   ]
  },
  {
   "cell_type": "code",
   "execution_count": null,
   "id": "36e9a875",
   "metadata": {},
   "outputs": [],
   "source": [
    "df1_class = merged_df.groupby('recclass')['mass_in_grams'].agg(['mean', 'count']).reset_index().rename({'mean': 'mass_in_grams'}, axis='columns')\n",
    "df1_class['mass_in_kg'] = round(df1_class['mass_in_grams'] * 0.001, 1)\n",
    "df1_class = df1_class.sort_values(by='count', ascending=False).head(10)\n",
    "\n",
    "bar_trace = go.Bar(x=df1_class.head(10)['recclass'], y=df1_class.head(10)['mass_in_kg'], name='Average Mass of Meteorite (kg)')\n",
    "scatter_trace = go.Scatter(\n",
    "    x=df1_class.head(10)['recclass'], y=df1_class.head(10)['count'], mode='markers+lines', name='Meteorite Class Count', yaxis='y2'\n",
    ")\n",
    "\n",
    "fig = go.Figure(data=[bar_trace, scatter_trace])\n",
    "fig.update_layout(\n",
    "    xaxis=dict(title='<b>Meteorite Class</b>'),\n",
    "    yaxis=dict(title='<b>Average Mass of Meteorite (kg)</b>'),\n",
    "    yaxis2=dict(title='<b>Meteorite Class Count</b>', overlaying='y', side='right'),\n",
    "    title=\"<b>Bar Plot of Average Meteorite Mass (in kg) by Class, Sorted by Class Count</b>\",\n",
    "    legend=dict(orientation='h', yanchor='top', y=1.15, xanchor='right', x=1),\n",
    "    width=1000,\n",
    "    height=400\n",
    ")\n",
    "fig.show()"
   ]
  },
  {
   "cell_type": "code",
   "execution_count": null,
   "id": "6ba616fb",
   "metadata": {},
   "outputs": [],
   "source": []
  }
 ],
 "metadata": {
  "kernelspec": {
   "display_name": "Python 3 (ipykernel)",
   "language": "python",
   "name": "python3"
  },
  "language_info": {
   "codemirror_mode": {
    "name": "ipython",
    "version": 3
   },
   "file_extension": ".py",
   "mimetype": "text/x-python",
   "name": "python",
   "nbconvert_exporter": "python",
   "pygments_lexer": "ipython3",
   "version": "3.11.5"
  }
 },
 "nbformat": 4,
 "nbformat_minor": 5
}
