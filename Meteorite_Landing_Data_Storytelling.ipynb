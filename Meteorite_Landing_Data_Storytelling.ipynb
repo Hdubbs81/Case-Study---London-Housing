{
 "cells": [
  {
   "cell_type": "markdown",
   "id": "8dc6d5c5",
   "metadata": {},
   "source": [
    "### Introduction\n",
    "This notebook aims to identify what, if any, correlations exist between an individual's music taste and their self-reported mental health. "
   ]
  },
  {
   "cell_type": "code",
   "execution_count": null,
   "id": "b08f4ecc",
   "metadata": {},
   "outputs": [],
   "source": [
    "import pandas as pd\n",
    "import numpy as np\n",
    "import matplotlib.pyplot as plt\n",
    "import seaborn as sns\n",
    "import datetime as dt\n",
    "from shapely.geometry import Point\n",
    "import geopandas as gpd\n",
    "\n",
    "# Load the dataset\n",
    "df = pd.read_csv('/Users/heatheradler/Documents/GitHub/Springboard/Springboard_Projects/Data Storytelling/Meteorite_Landings.csv')\n",
    "df.head()"
   ]
  },
  {
   "cell_type": "markdown",
   "id": "634c819b",
   "metadata": {},
   "source": [
    "### Data Exploration\n",
    "We start by exploring the dataset to understand its structure and clean it if necessary. "
   ]
  },
  {
   "cell_type": "code",
   "execution_count": null,
   "id": "b4021589",
   "metadata": {},
   "outputs": [],
   "source": [
    "df.rename({\"mass (g)\": \"mass_in_grams\", \"reclat\": \"latitude\", \"reclong\": \"longitude\"}, axis=1, inplace=True)"
   ]
  },
  {
   "cell_type": "code",
   "execution_count": null,
   "id": "267d0873",
   "metadata": {},
   "outputs": [],
   "source": [
    "# Check for missing values and data types\n",
    "df.info()"
   ]
  },
  {
   "cell_type": "code",
   "execution_count": null,
   "id": "25bce309",
   "metadata": {},
   "outputs": [],
   "source": [
    "df.shape"
   ]
  },
  {
   "cell_type": "markdown",
   "id": "a5d9784b",
   "metadata": {},
   "source": [
    "### Data Cleaning\n",
    "Next, we convert remove missing values in column 'mass (g)' and repalce remaiing null values so that there are no longer any missing vlaues."
   ]
  },
  {
   "cell_type": "code",
   "execution_count": null,
   "id": "7fd41134",
   "metadata": {},
   "outputs": [],
   "source": [
    "df_1 = df.dropna(subset=['mass_in_grams','latitude', 'longitude'])\n",
    "\n",
    "df_1.fillna(0, inplace=True)"
   ]
  },
  {
   "cell_type": "code",
   "execution_count": null,
   "id": "51f96310",
   "metadata": {},
   "outputs": [],
   "source": [
    "# Check all columns to confirm no null values\n",
    "df_1.isnull().sum()"
   ]
  },
  {
   "cell_type": "markdown",
   "id": "f16860d1",
   "metadata": {},
   "source": [
    "### Data Analysis\n",
    "We'll perform various analyses to explore the dataset more deeply."
   ]
  },
  {
   "cell_type": "code",
   "execution_count": null,
   "id": "be4fba96",
   "metadata": {},
   "outputs": [],
   "source": [
    "# Load shapefile data\n",
    "world = gpd.read_file(r'/Users/heatheradler/Documents/GitHub/Springboard/Springboard_Projects/Data Storytelling/ne_10m_admin_0_countries.shp')\n",
    "\n",
    "# Create Point geometries from latitude and longitude\n",
    "geometry = [Point(lon, lat) for lon, lat in zip(df['longitude'], df['latitude'])]\n",
    "\n",
    "# Create a GeoDataFrame from the DataFrame and Point geometries\n",
    "gdf_points = gpd.GeoDataFrame(df, geometry=geometry, crs='EPSG:4326')\n",
    "\n",
    "# Load a GeoDataFrame containing country boundaries\n",
    "# Example: loading a world countries shapefile\n",
    "world = gpd.read_file(gpd.datasets.get_path('naturalearth_lowres'))\n",
    "\n",
    "# Perform a spatial join to get the country name for each point\n",
    "joined = gpd.sjoin(gdf_points, world[['geometry', 'iso_a3']], op='within')\n",
    "\n",
    "# Extract the country names from the joined GeoDataFrame\n",
    "country_names = joined['iso_a3']\n",
    "\n",
    "# Add the country names back to the original DataFrame\n",
    "df_1['country'] = country_names"
   ]
  },
  {
   "cell_type": "code",
   "execution_count": null,
   "id": "26c96216",
   "metadata": {},
   "outputs": [],
   "source": [
    "merged_df = df_1.merge(world[['iso_a3', 'name']], how='left', left_on='country', right_on='iso_a3')\n",
    "    \n",
    "# Drop the 'iso_a3' column\n",
    "merged_df = merged_df.drop(columns=['iso_a3'])\n",
    "    \n",
    "# Rename the 'name' column to 'country_name' for clarity\n",
    "merged_df = merged_df.rename(columns={'name_y': 'country_name'})"
   ]
  },
  {
   "cell_type": "code",
   "execution_count": null,
   "id": "8fda5810",
   "metadata": {
    "scrolled": true
   },
   "outputs": [],
   "source": [
    "merged_df.head()"
   ]
  },
  {
   "cell_type": "code",
   "execution_count": null,
   "id": "f14bf853",
   "metadata": {},
   "outputs": [],
   "source": [
    "merged_df.columns"
   ]
  },
  {
   "cell_type": "code",
   "execution_count": null,
   "id": "a5ae7891",
   "metadata": {
    "scrolled": true
   },
   "outputs": [],
   "source": [
    "import folium\n",
    "\n",
    "# Filter out rows with NaN values in lat, long, and mass_in_grams columns\n",
    "df1_filtered = merged_df[[ 'country_name', 'latitude', 'longitude', 'mass_in_grams']].dropna(subset=[ 'country_name', 'latitude', 'longitude', 'mass_in_grams']).copy()\n",
    "\n",
    "f = folium.Figure(width=1000, height=500)\n",
    "m = folium.Map(location=df1_filtered[[ 'latitude', 'longitude']].mean().values.tolist()).add_to(f)\n",
    "\n",
    "for index, row in df1_filtered.iterrows():\n",
    "    folium.CircleMarker(\n",
    "        location=[row['latitude'], row['longitude']],\n",
    "        radius=1,\n",
    "        color='blue',\n",
    "        fill=True,\n",
    "        fill_color='blue',\n",
    "        fill_opacity=0.6,\n",
    "        popup=f'Name: {row[\"country_name\"]}\\nMass: {row[\"mass_in_grams\"]}g'\n",
    "        ).add_to(m)\n",
    "\n",
    "m.fit_bounds([df1_filtered[[ 'latitude', 'longitude']].min().values.tolist(), df1_filtered[[ 'latitude', 'longitude']].max().values.tolist()])\n",
    "\n",
    "f"
   ]
  },
  {
   "cell_type": "markdown",
   "id": "2bb6142c",
   "metadata": {},
   "source": [
    "# Questions to Answer with Analytics:"
   ]
  },
  {
   "cell_type": "markdown",
   "id": "6e3acd6a",
   "metadata": {},
   "source": [
    "### 1) What are the top 10 countries with the highest number of recorded meteorite landings?"
   ]
  },
  {
   "cell_type": "code",
   "execution_count": null,
   "id": "ec7f3477",
   "metadata": {},
   "outputs": [],
   "source": [
    "df1_country_count = merged_df.groupby(['country_name'])[['country']].count().rename(columns={\n",
    "    \"country\": \"meteorite_landings\"\n",
    "    }).sort_values(by=['meteorite_landings'], ascending=False).reset_index()\n",
    "df1_country_count.head(10)"
   ]
  },
  {
   "cell_type": "code",
   "execution_count": null,
   "id": "496082dc",
   "metadata": {},
   "outputs": [],
   "source": [
    "import plotly.express as px \n",
    "\n",
    "fig = px.bar(\n",
    "    df1_country_count.head(10).sort_values(by=['meteorite_landings'], ascending=True),\n",
    "    x='meteorite_landings',\n",
    "    y='country_name',\n",
    "    orientation='h',  # horizontal bar chart\n",
    "    title=\"Meteorite Landings by Country\",\n",
    "    labels={'meteorite_landings': 'Meteorite Landings Count', 'country_name': 'Country'}\n",
    ")\n",
    "\n",
    "fig.show()"
   ]
  },
  {
   "cell_type": "markdown",
   "id": "003f7ad9",
   "metadata": {},
   "source": [
    "### 2) What are the top 10 meteorite landings worldwide based on their mass?"
   ]
  },
  {
   "cell_type": "code",
   "execution_count": null,
   "id": "015dd9dc",
   "metadata": {},
   "outputs": [],
   "source": [
    "df1_by_mass = merged_df.sort_values(by=['mass_in_grams'], ascending=False).reset_index(drop=True).copy()\n",
    "df1_by_mass = df1_by_mass.dropna(subset=[\"country_name\"]).head(10)\n",
    "df1_by_mass['mass_in_grams'] = df1_by_mass['mass_in_grams'].astype(int)\n",
    "df1_by_mass.head(10)"
   ]
  },
  {
   "cell_type": "code",
   "execution_count": null,
   "id": "7df521cb",
   "metadata": {},
   "outputs": [],
   "source": [
    "fig = px.scatter(df1_by_mass, y=\"country_name\", x=\"year\", color=\"country\", size='mass_in_grams', width=1000, height=400)\n",
    "fig.update_layout(\n",
    "    title=\"<b>Scatter Plot of Top 10 Heaviest Meteorite Landings</b>\",\n",
    "    xaxis_title=\"<b>Year of Meteorite Landings</b>\",\n",
    "    yaxis_title=\"<b>Country</b>\",\n",
    "    legend_title=\"Country\"\n",
    "    )\n",
    "fig.show()"
   ]
  },
  {
   "cell_type": "markdown",
   "id": "33f0ea24",
   "metadata": {},
   "source": [
    "#### Observations:\n",
    "(1) The heaviest meteor landing was found in Nambia (1920).             \n",
    "(2) Out of the top 10 heaviest meteorite landings, Namibia and Mexico recorded 2 each.    \n",
    "(3) Out of the top 10 heaviest meteorite landings the oldest recorded was in Argentina (1575)."
   ]
  },
  {
   "cell_type": "markdown",
   "id": "769c7682",
   "metadata": {},
   "source": [
    "### 3) What is the cumulative count of meteorite landings per year over time"
   ]
  },
  {
   "cell_type": "code",
   "execution_count": null,
   "id": "b1a0c8e9",
   "metadata": {},
   "outputs": [],
   "source": [
    "fig = px.bar(merged_df['year'].value_counts().sort_index().reset_index(), x='year', y='count', width=1000, height=400)\n",
    "fig.update_layout(\n",
    "    title=\"<b>Bar Plot of Yearly Meteorite Landings</b>\",\n",
    "    xaxis_range=[ 1950, 2023 ],\n",
    "    xaxis_title=\"<b>Year of Meteorite Landings</b>\",\n",
    "    yaxis_title=\"<b>Total Meteorite Landings</b>\"\n",
    "    )\n",
    "fig.update_traces(marker_color='green')\n",
    "fig.show()"
   ]
  },
  {
   "cell_type": "code",
   "execution_count": null,
   "id": "52ff6e31",
   "metadata": {},
   "outputs": [],
   "source": [
    "df1_by_mass.head()"
   ]
  },
  {
   "cell_type": "markdown",
   "id": "4829615f",
   "metadata": {},
   "source": [
    "### 4) What is the distribution of meteorite landings based on their fall/found types?"
   ]
  },
  {
   "cell_type": "code",
   "execution_count": null,
   "id": "684cb1ed",
   "metadata": {},
   "outputs": [],
   "source": [
    "fig = px.pie(merged_df['fall'].value_counts().reset_index(), values='count', names='fall', width=400, height=400)\n",
    "fig.update_layout(title=\"<b>Meteorite Landings By Fall Type</b>\", )\n",
    "fig.show()"
   ]
  },
  {
   "cell_type": "markdown",
   "id": "9c7b8133",
   "metadata": {},
   "source": [
    "### 5) What is the distribution of meteorite landings based on their class type?"
   ]
  },
  {
   "cell_type": "code",
   "execution_count": null,
   "id": "fe94a230",
   "metadata": {},
   "outputs": [],
   "source": [
    "df1_class = merged_df['recclass'].value_counts().reset_index()\n",
    "\n",
    "total_count = df1_class['count'].sum()\n",
    "df1_class['percentage'] = round((df1_class['count'] / total_count) * 100, 0)\n",
    "\n",
    "threshold_percentage = 5\n",
    "\n",
    "filtered_df = df1_class[df1_class['percentage'] >= threshold_percentage]\n",
    "\n",
    "fig = px.pie(filtered_df, values='percentage', names='recclass', width=600, height=600)\n",
    "fig.update_layout(title=\"<b>Meteorite Landings By Class Type</b>\", )\n",
    "fig.update_traces(textposition='inside', texttemplate='%{label}<br>%{value}%')    \n",
    "fig.show()"
   ]
  },
  {
   "cell_type": "markdown",
   "id": "8c925224",
   "metadata": {},
   "source": [
    "### 6) What are the top 10 meteorite classes based on their average mass within the class and their class count?"
   ]
  },
  {
   "cell_type": "code",
   "execution_count": null,
   "id": "f8b753b0",
   "metadata": {},
   "outputs": [],
   "source": [
    "df1_class = merged_df[merged_df['mass_in_grams'] > 0].copy()\n",
    "df1_class = merged_df.groupby('recclass')['mass_in_grams'].agg([ 'mean', 'count']).reset_index()\n",
    "df1_class = df1_class.rename({'mean': 'mass_in_grams'}, axis='columns')\n",
    "df1_class['mass_in_kg'] = round(df1_class['mass_in_grams'] * 0.001, 1)\n",
    "df1_class = df1_class.sort_values(by='count', ascending=False).reset_index(drop=True)\n",
    "df1_class.head(10)"
   ]
  },
  {
   "cell_type": "code",
   "execution_count": null,
   "id": "a5303005",
   "metadata": {},
   "outputs": [],
   "source": [
    "import plotly.graph_objects as go\n",
    "\n",
    "bar_trace = go.Bar(x=df1_class.head(10)['recclass'], y=df1_class.head(10)['mass_in_kg'], name='Average Mass of Meteorite (kg)')\n",
    "scatter_trace = go.Scatter(\n",
    "    x=df1_class.head(10)['recclass'], y=df1_class.head(10)['count'], mode='markers+lines', name='Meteorite Class Count', yaxis='y2'\n",
    "    )\n",
    "fig = go.Figure(data=[ bar_trace, scatter_trace ])\n",
    "fig.update_layout(\n",
    "    xaxis=dict(title='<b>Meteorite Class</b>'),\n",
    "    yaxis=dict(title='<b>Average Mass of Meteorite (kg)</b>'),\n",
    "    yaxis2=dict(title='<b>Meteorite Class Count</b>', overlaying='y', side='right'),\n",
    "    title=\"<b>Bar Plot of Average Meteorite Mass (in kg) by Class, Sorted by Class Count</b>\",\n",
    "    legend=dict(orientation='h', yanchor='top', y=1.15, xanchor='right', x=1),\n",
    "    width=1000,\n",
    "    height=400\n",
    "    )\n",
    "fig.show()"
   ]
  },
  {
   "cell_type": "code",
   "execution_count": null,
   "id": "6ba616fb",
   "metadata": {},
   "outputs": [],
   "source": []
  }
 ],
 "metadata": {
  "kernelspec": {
   "display_name": "Python 3 (ipykernel)",
   "language": "python",
   "name": "python3"
  },
  "language_info": {
   "codemirror_mode": {
    "name": "ipython",
    "version": 3
   },
   "file_extension": ".py",
   "mimetype": "text/x-python",
   "name": "python",
   "nbconvert_exporter": "python",
   "pygments_lexer": "ipython3",
   "version": "3.11.5"
  }
 },
 "nbformat": 4,
 "nbformat_minor": 5
}
