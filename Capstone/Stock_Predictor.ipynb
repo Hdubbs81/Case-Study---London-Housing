{
 "cells": [
  {
   "cell_type": "code",
   "execution_count": 1,
   "id": "9a6c20b8",
   "metadata": {},
   "outputs": [],
   "source": [
    "import numpy as np \n",
    "import pandas as pd \n",
    "import matplotlib.pyplot as plt \n",
    "import seaborn as sns \n",
    "import os\n",
    "import csv"
   ]
  },
  {
   "cell_type": "code",
   "execution_count": null,
   "id": "9fc56a55",
   "metadata": {},
   "outputs": [],
   "source": [
    "def append_csv_files(folder_path, output_file):\n",
    "    # Get a list of all files in the folder\n",
    "    files = os.listdir(folder_path)\n",
    "    \n",
    "    # Open the output CSV file in append mode\n",
    "    with open(output_file, 'a', newline='') as output_csv:\n",
    "        csv_writer = csv.writer(output_csv)\n",
    "        \n",
    "        # Iterate through each file in the folder\n",
    "        for file_name in files:\n",
    "            # Check if the file is a CSV file\n",
    "            if file_name.endswith('.csv'):\n",
    "                file_path = os.path.join(folder_path, file_name)\n",
    "                with open(file_path, 'r', newline='') as input_csv:\n",
    "                    csv_reader = csv.reader(input_csv)\n",
    "                    \n",
    "                    # Get the name of the file without extension\n",
    "                    file_name_without_extension = os.path.splitext(file_name)[0]\n",
    "                    \n",
    "                    # Skip the header if it's not the first file\n",
    "                    if files.index(file_name) > 0:\n",
    "                        next(csv_reader)\n",
    "                    else:\n",
    "                        # Add a new column header for the file name\n",
    "                        header = next(csv_reader)\n",
    "                        header.append('Original_File')\n",
    "                        csv_writer.writerow(header)\n",
    "                    \n",
    "                    # Write the rows from the current CSV file to the output CSV file\n",
    "                    for row in csv_reader:\n",
    "                        # Append the file name to the row\n",
    "                        row.append(file_name_without_extension)\n",
    "                        csv_writer.writerow(row)\n",
    "                        \n",
    "\n",
    "folder_path = \"/Users/heatheradler/Documents/GitHub/Springboard/Capstone/archive/Data\"\n",
    "output_file = \"/Users/heatheradler/Documents/GitHub/Springboard/Capstone/archive/Data/Appended_Data.csv\"\n",
    "\n",
    "append_csv_files(folder_path, output_file)"
   ]
  },
  {
   "cell_type": "code",
   "execution_count": null,
   "id": "df8cfe10",
   "metadata": {},
   "outputs": [],
   "source": [
    "df= pd.read_csv(output_file, on_bad_lines='skip')\n"
   ]
  },
  {
   "cell_type": "code",
   "execution_count": null,
   "id": "e7ac8879",
   "metadata": {},
   "outputs": [],
   "source": []
  },
  {
   "cell_type": "code",
   "execution_count": null,
   "id": "61bb4a49",
   "metadata": {},
   "outputs": [],
   "source": []
  }
 ],
 "metadata": {
  "kernelspec": {
   "display_name": "Python 3 (ipykernel)",
   "language": "python",
   "name": "python3"
  },
  "language_info": {
   "codemirror_mode": {
    "name": "ipython",
    "version": 3
   },
   "file_extension": ".py",
   "mimetype": "text/x-python",
   "name": "python",
   "nbconvert_exporter": "python",
   "pygments_lexer": "ipython3",
   "version": "3.11.5"
  }
 },
 "nbformat": 4,
 "nbformat_minor": 5
}
